{
 "cells": [
  {
   "cell_type": "code",
   "execution_count": 1,
   "id": "bfac153e",
   "metadata": {},
   "outputs": [],
   "source": [
    "import pandas as pd\n",
    "import numpy as np\n",
    "import matplotlib.pyplot as plt\n",
    "import seaborn as sns"
   ]
  },
  {
   "cell_type": "code",
   "execution_count": 2,
   "id": "0ab04649",
   "metadata": {},
   "outputs": [],
   "source": [
    "stock= pd.read_csv(r'C:\\Users\\USER\\Desktop\\stock\\data\\stock.csv')"
   ]
  },
  {
   "cell_type": "code",
   "execution_count": 3,
   "id": "3c08ad51",
   "metadata": {},
   "outputs": [
    {
     "data": {
      "text/html": [
       "<div>\n",
       "<style scoped>\n",
       "    .dataframe tbody tr th:only-of-type {\n",
       "        vertical-align: middle;\n",
       "    }\n",
       "\n",
       "    .dataframe tbody tr th {\n",
       "        vertical-align: top;\n",
       "    }\n",
       "\n",
       "    .dataframe thead th {\n",
       "        text-align: right;\n",
       "    }\n",
       "</style>\n",
       "<table border=\"1\" class=\"dataframe\">\n",
       "  <thead>\n",
       "    <tr style=\"text-align: right;\">\n",
       "      <th></th>\n",
       "      <th>Date</th>\n",
       "      <th>Open</th>\n",
       "      <th>High</th>\n",
       "      <th>Low</th>\n",
       "      <th>Close</th>\n",
       "      <th>Volume</th>\n",
       "    </tr>\n",
       "  </thead>\n",
       "  <tbody>\n",
       "    <tr>\n",
       "      <th>0</th>\n",
       "      <td>02-07-2002</td>\n",
       "      <td>21.370001</td>\n",
       "      <td>22.783001</td>\n",
       "      <td>21.370001</td>\n",
       "      <td>22.520000</td>\n",
       "      <td>588615.0</td>\n",
       "    </tr>\n",
       "    <tr>\n",
       "      <th>1</th>\n",
       "      <td>03-07-2002</td>\n",
       "      <td>22.267000</td>\n",
       "      <td>22.799999</td>\n",
       "      <td>21.933001</td>\n",
       "      <td>22.733000</td>\n",
       "      <td>162075.0</td>\n",
       "    </tr>\n",
       "    <tr>\n",
       "      <th>2</th>\n",
       "      <td>04-07-2002</td>\n",
       "      <td>22.667000</td>\n",
       "      <td>23.333000</td>\n",
       "      <td>22.667000</td>\n",
       "      <td>22.966999</td>\n",
       "      <td>266625.0</td>\n",
       "    </tr>\n",
       "    <tr>\n",
       "      <th>3</th>\n",
       "      <td>05-07-2002</td>\n",
       "      <td>23.400000</td>\n",
       "      <td>25.000000</td>\n",
       "      <td>23.333000</td>\n",
       "      <td>24.056999</td>\n",
       "      <td>408600.0</td>\n",
       "    </tr>\n",
       "    <tr>\n",
       "      <th>4</th>\n",
       "      <td>08-07-2002</td>\n",
       "      <td>24.003000</td>\n",
       "      <td>24.867001</td>\n",
       "      <td>24.003000</td>\n",
       "      <td>24.503000</td>\n",
       "      <td>165600.0</td>\n",
       "    </tr>\n",
       "    <tr>\n",
       "      <th>...</th>\n",
       "      <td>...</td>\n",
       "      <td>...</td>\n",
       "      <td>...</td>\n",
       "      <td>...</td>\n",
       "      <td>...</td>\n",
       "      <td>...</td>\n",
       "    </tr>\n",
       "    <tr>\n",
       "      <th>995</th>\n",
       "      <td>05-10-2000</td>\n",
       "      <td>20.415001</td>\n",
       "      <td>20.750000</td>\n",
       "      <td>20.129999</td>\n",
       "      <td>20.205000</td>\n",
       "      <td>465220.0</td>\n",
       "    </tr>\n",
       "    <tr>\n",
       "      <th>996</th>\n",
       "      <td>06-10-2000</td>\n",
       "      <td>20.004999</td>\n",
       "      <td>20.150000</td>\n",
       "      <td>19.674999</td>\n",
       "      <td>19.889999</td>\n",
       "      <td>956950.0</td>\n",
       "    </tr>\n",
       "    <tr>\n",
       "      <th>997</th>\n",
       "      <td>09-10-2000</td>\n",
       "      <td>19.950001</td>\n",
       "      <td>20.090000</td>\n",
       "      <td>19.809999</td>\n",
       "      <td>19.885000</td>\n",
       "      <td>617280.0</td>\n",
       "    </tr>\n",
       "    <tr>\n",
       "      <th>998</th>\n",
       "      <td>10-10-2000</td>\n",
       "      <td>19.985001</td>\n",
       "      <td>19.985001</td>\n",
       "      <td>19.500000</td>\n",
       "      <td>19.600000</td>\n",
       "      <td>1067910.0</td>\n",
       "    </tr>\n",
       "    <tr>\n",
       "      <th>999</th>\n",
       "      <td>NaN</td>\n",
       "      <td>NaN</td>\n",
       "      <td>NaN</td>\n",
       "      <td>NaN</td>\n",
       "      <td>NaN</td>\n",
       "      <td>NaN</td>\n",
       "    </tr>\n",
       "  </tbody>\n",
       "</table>\n",
       "<p>1000 rows × 6 columns</p>\n",
       "</div>"
      ],
      "text/plain": [
       "           Date       Open       High        Low      Close     Volume\n",
       "0    02-07-2002  21.370001  22.783001  21.370001  22.520000   588615.0\n",
       "1    03-07-2002  22.267000  22.799999  21.933001  22.733000   162075.0\n",
       "2    04-07-2002  22.667000  23.333000  22.667000  22.966999   266625.0\n",
       "3    05-07-2002  23.400000  25.000000  23.333000  24.056999   408600.0\n",
       "4    08-07-2002  24.003000  24.867001  24.003000  24.503000   165600.0\n",
       "..          ...        ...        ...        ...        ...        ...\n",
       "995  05-10-2000  20.415001  20.750000  20.129999  20.205000   465220.0\n",
       "996  06-10-2000  20.004999  20.150000  19.674999  19.889999   956950.0\n",
       "997  09-10-2000  19.950001  20.090000  19.809999  19.885000   617280.0\n",
       "998  10-10-2000  19.985001  19.985001  19.500000  19.600000  1067910.0\n",
       "999         NaN        NaN        NaN        NaN        NaN        NaN\n",
       "\n",
       "[1000 rows x 6 columns]"
      ]
     },
     "execution_count": 3,
     "metadata": {},
     "output_type": "execute_result"
    }
   ],
   "source": [
    "stock"
   ]
  },
  {
   "cell_type": "code",
   "execution_count": 4,
   "id": "0fd146c3",
   "metadata": {},
   "outputs": [
    {
     "data": {
      "text/plain": [
       "Index(['Date', 'Open', 'High', 'Low', 'Close', 'Volume'], dtype='object')"
      ]
     },
     "execution_count": 4,
     "metadata": {},
     "output_type": "execute_result"
    }
   ],
   "source": [
    "stock.columns"
   ]
  },
  {
   "cell_type": "code",
   "execution_count": 5,
   "id": "7cf582e4",
   "metadata": {},
   "outputs": [
    {
     "data": {
      "text/plain": [
       "(1000, 6)"
      ]
     },
     "execution_count": 5,
     "metadata": {},
     "output_type": "execute_result"
    }
   ],
   "source": [
    "stock.shape"
   ]
  },
  {
   "cell_type": "code",
   "execution_count": 6,
   "id": "fec4dc4a",
   "metadata": {},
   "outputs": [
    {
     "name": "stdout",
     "output_type": "stream",
     "text": [
      "<class 'pandas.core.frame.DataFrame'>\n",
      "RangeIndex: 1000 entries, 0 to 999\n",
      "Data columns (total 6 columns):\n",
      " #   Column  Non-Null Count  Dtype  \n",
      "---  ------  --------------  -----  \n",
      " 0   Date    999 non-null    object \n",
      " 1   Open    999 non-null    float64\n",
      " 2   High    999 non-null    float64\n",
      " 3   Low     999 non-null    float64\n",
      " 4   Close   999 non-null    float64\n",
      " 5   Volume  999 non-null    float64\n",
      "dtypes: float64(5), object(1)\n",
      "memory usage: 47.0+ KB\n"
     ]
    }
   ],
   "source": [
    "stock.info()"
   ]
  },
  {
   "cell_type": "code",
   "execution_count": 7,
   "id": "aea6d1aa",
   "metadata": {},
   "outputs": [
    {
     "data": {
      "text/plain": [
       "Date      1\n",
       "Open      1\n",
       "High      1\n",
       "Low       1\n",
       "Close     1\n",
       "Volume    1\n",
       "dtype: int64"
      ]
     },
     "execution_count": 7,
     "metadata": {},
     "output_type": "execute_result"
    }
   ],
   "source": [
    "stock.isnull().sum()"
   ]
  },
  {
   "cell_type": "code",
   "execution_count": 21,
   "id": "37596f5c",
   "metadata": {},
   "outputs": [],
   "source": [
    "stock.fillna(method='ffill',inplace=True)"
   ]
  },
  {
   "cell_type": "code",
   "execution_count": 25,
   "id": "8fce607f",
   "metadata": {},
   "outputs": [
    {
     "data": {
      "text/plain": [
       "Date      0\n",
       "Open      0\n",
       "High      0\n",
       "Low       0\n",
       "Close     0\n",
       "Volume    0\n",
       "dtype: int64"
      ]
     },
     "execution_count": 25,
     "metadata": {},
     "output_type": "execute_result"
    }
   ],
   "source": [
    "stock.isnull().sum()"
   ]
  },
  {
   "cell_type": "code",
   "execution_count": 26,
   "id": "40728e9c",
   "metadata": {},
   "outputs": [
    {
     "data": {
      "text/plain": [
       "array([ 17,  33,  46,  61, 101, 112, 128, 141, 155, 193, 204, 219, 231,\n",
       "       245, 283, 294, 309, 321, 335, 373, 383, 395,   7,  19,  62,  76,\n",
       "        92, 103, 114, 156, 169, 184, 195, 206, 246, 259, 274, 285, 296,\n",
       "       336, 349, 364, 375, 385,  20,  35,  49,  64,  78, 115, 130, 144,\n",
       "       158, 171, 207, 221, 234, 248, 261, 297, 311, 324, 338, 351, 386,\n",
       "         9,  22,  37,  51,  94, 105, 117, 132, 145, 186, 197, 208, 222,\n",
       "       235, 276, 287, 298, 312, 325, 366, 377, 387, 397,  10,  52,  66,\n",
       "        80,  95, 106, 146, 159, 172, 187, 198, 236, 249, 262, 277, 288,\n",
       "       326, 339, 352, 367, 378,  23,  38,  53,  67,  81, 118, 133, 147,\n",
       "       160, 173, 209, 223, 237, 250, 263, 299, 313, 327, 340, 353, 388,\n",
       "       398,   0,  11,  25,  69,  83,  96, 107, 120, 162, 175, 188, 199,\n",
       "       211, 252, 265, 278, 289, 301, 342, 355, 368, 379, 390,  27,  41,\n",
       "        55,  70,  85, 122, 136, 149, 163, 177, 213, 226, 239, 253, 267,\n",
       "       303, 316, 329, 343, 357,  29,  42,  56,  72,  87, 124, 137, 150,\n",
       "       165, 179, 215, 227, 240, 255, 269, 305, 317, 330, 345, 359, 392,\n",
       "         3,  14,  24,  39,  54,  68,  82, 119, 134, 148, 161, 174, 210,\n",
       "       224, 238, 251, 264, 300, 314, 328, 341, 354, 389,   1,  12,  26,\n",
       "        40,  84,  97, 108, 121, 135, 176, 189, 200, 212, 225, 266, 279,\n",
       "       290, 302, 315, 356, 369,   2,  13,  28,  71,  86,  98, 109, 123,\n",
       "       164, 178, 190, 201, 214, 254, 268, 280, 291, 304, 344, 358, 370,\n",
       "       380, 391,  30,  43,  57,  73,  88, 125, 138, 151, 166, 180, 216,\n",
       "       228, 241, 256, 270, 306, 318, 331, 346, 360,   4,  15,  31,  44,\n",
       "        58,  99, 110, 126, 139, 152, 191, 202, 217, 229, 242, 281, 292,\n",
       "       307, 319, 332, 371, 381, 393,   5,  16,  59,  74,  89, 100, 111,\n",
       "       153, 167, 181, 192, 203, 243, 257, 271, 282, 293, 333, 347, 361,\n",
       "       372, 382,  32,  45,  60,  75,  90, 127, 140, 154, 168, 182, 218,\n",
       "       230, 244, 258, 272, 308, 320, 334, 348, 362, 394,   6,  18,  34,\n",
       "        47,  91, 102, 113, 129, 142, 183, 194, 205, 220, 232, 273, 284,\n",
       "       295, 310, 322, 363, 374, 384, 396,   8,  48,  63,  77,  93, 104,\n",
       "       143, 157, 170, 185, 196, 233, 247, 260, 275, 286, 323, 337, 350,\n",
       "       365, 376,  21,  36,  50,  65,  79, 116, 131, 399], dtype=int64)"
      ]
     },
     "execution_count": 26,
     "metadata": {},
     "output_type": "execute_result"
    }
   ],
   "source": [
    "from sklearn import preprocessing\n",
    "  \n",
    "# label_encoder object knows how to understand word labels.\n",
    "label_encoder = preprocessing.LabelEncoder()\n",
    "  \n",
    "# Encode labels in column 'species'.\n",
    "stock['Date']= label_encoder.fit_transform(stock['Date'])\n",
    "  \n",
    "stock['Date'].unique()"
   ]
  },
  {
   "cell_type": "code",
   "execution_count": 27,
   "id": "eaa2b078",
   "metadata": {},
   "outputs": [],
   "source": [
    "x=stock[['Date','Open','High','Low','Close']]"
   ]
  },
  {
   "cell_type": "code",
   "execution_count": 28,
   "id": "11c78cb9",
   "metadata": {},
   "outputs": [
    {
     "data": {
      "text/html": [
       "<div>\n",
       "<style scoped>\n",
       "    .dataframe tbody tr th:only-of-type {\n",
       "        vertical-align: middle;\n",
       "    }\n",
       "\n",
       "    .dataframe tbody tr th {\n",
       "        vertical-align: top;\n",
       "    }\n",
       "\n",
       "    .dataframe thead th {\n",
       "        text-align: right;\n",
       "    }\n",
       "</style>\n",
       "<table border=\"1\" class=\"dataframe\">\n",
       "  <thead>\n",
       "    <tr style=\"text-align: right;\">\n",
       "      <th></th>\n",
       "      <th>Date</th>\n",
       "      <th>Open</th>\n",
       "      <th>High</th>\n",
       "      <th>Low</th>\n",
       "      <th>Close</th>\n",
       "    </tr>\n",
       "  </thead>\n",
       "  <tbody>\n",
       "    <tr>\n",
       "      <th>0</th>\n",
       "      <td>17</td>\n",
       "      <td>21.370001</td>\n",
       "      <td>22.783001</td>\n",
       "      <td>21.370001</td>\n",
       "      <td>22.520000</td>\n",
       "    </tr>\n",
       "    <tr>\n",
       "      <th>1</th>\n",
       "      <td>33</td>\n",
       "      <td>22.267000</td>\n",
       "      <td>22.799999</td>\n",
       "      <td>21.933001</td>\n",
       "      <td>22.733000</td>\n",
       "    </tr>\n",
       "    <tr>\n",
       "      <th>2</th>\n",
       "      <td>46</td>\n",
       "      <td>22.667000</td>\n",
       "      <td>23.333000</td>\n",
       "      <td>22.667000</td>\n",
       "      <td>22.966999</td>\n",
       "    </tr>\n",
       "    <tr>\n",
       "      <th>3</th>\n",
       "      <td>61</td>\n",
       "      <td>23.400000</td>\n",
       "      <td>25.000000</td>\n",
       "      <td>23.333000</td>\n",
       "      <td>24.056999</td>\n",
       "    </tr>\n",
       "    <tr>\n",
       "      <th>4</th>\n",
       "      <td>101</td>\n",
       "      <td>24.003000</td>\n",
       "      <td>24.867001</td>\n",
       "      <td>24.003000</td>\n",
       "      <td>24.503000</td>\n",
       "    </tr>\n",
       "    <tr>\n",
       "      <th>...</th>\n",
       "      <td>...</td>\n",
       "      <td>...</td>\n",
       "      <td>...</td>\n",
       "      <td>...</td>\n",
       "      <td>...</td>\n",
       "    </tr>\n",
       "    <tr>\n",
       "      <th>995</th>\n",
       "      <td>65</td>\n",
       "      <td>20.415001</td>\n",
       "      <td>20.750000</td>\n",
       "      <td>20.129999</td>\n",
       "      <td>20.205000</td>\n",
       "    </tr>\n",
       "    <tr>\n",
       "      <th>996</th>\n",
       "      <td>79</td>\n",
       "      <td>20.004999</td>\n",
       "      <td>20.150000</td>\n",
       "      <td>19.674999</td>\n",
       "      <td>19.889999</td>\n",
       "    </tr>\n",
       "    <tr>\n",
       "      <th>997</th>\n",
       "      <td>116</td>\n",
       "      <td>19.950001</td>\n",
       "      <td>20.090000</td>\n",
       "      <td>19.809999</td>\n",
       "      <td>19.885000</td>\n",
       "    </tr>\n",
       "    <tr>\n",
       "      <th>998</th>\n",
       "      <td>131</td>\n",
       "      <td>19.985001</td>\n",
       "      <td>19.985001</td>\n",
       "      <td>19.500000</td>\n",
       "      <td>19.600000</td>\n",
       "    </tr>\n",
       "    <tr>\n",
       "      <th>999</th>\n",
       "      <td>399</td>\n",
       "      <td>19.985001</td>\n",
       "      <td>19.985001</td>\n",
       "      <td>19.500000</td>\n",
       "      <td>19.600000</td>\n",
       "    </tr>\n",
       "  </tbody>\n",
       "</table>\n",
       "<p>1000 rows × 5 columns</p>\n",
       "</div>"
      ],
      "text/plain": [
       "     Date       Open       High        Low      Close\n",
       "0      17  21.370001  22.783001  21.370001  22.520000\n",
       "1      33  22.267000  22.799999  21.933001  22.733000\n",
       "2      46  22.667000  23.333000  22.667000  22.966999\n",
       "3      61  23.400000  25.000000  23.333000  24.056999\n",
       "4     101  24.003000  24.867001  24.003000  24.503000\n",
       "..    ...        ...        ...        ...        ...\n",
       "995    65  20.415001  20.750000  20.129999  20.205000\n",
       "996    79  20.004999  20.150000  19.674999  19.889999\n",
       "997   116  19.950001  20.090000  19.809999  19.885000\n",
       "998   131  19.985001  19.985001  19.500000  19.600000\n",
       "999   399  19.985001  19.985001  19.500000  19.600000\n",
       "\n",
       "[1000 rows x 5 columns]"
      ]
     },
     "execution_count": 28,
     "metadata": {},
     "output_type": "execute_result"
    }
   ],
   "source": [
    "x"
   ]
  },
  {
   "cell_type": "code",
   "execution_count": 29,
   "id": "336e18d6",
   "metadata": {},
   "outputs": [],
   "source": [
    "y=stock[['Volume']]"
   ]
  },
  {
   "cell_type": "code",
   "execution_count": 30,
   "id": "330b7516",
   "metadata": {},
   "outputs": [
    {
     "data": {
      "text/html": [
       "<div>\n",
       "<style scoped>\n",
       "    .dataframe tbody tr th:only-of-type {\n",
       "        vertical-align: middle;\n",
       "    }\n",
       "\n",
       "    .dataframe tbody tr th {\n",
       "        vertical-align: top;\n",
       "    }\n",
       "\n",
       "    .dataframe thead th {\n",
       "        text-align: right;\n",
       "    }\n",
       "</style>\n",
       "<table border=\"1\" class=\"dataframe\">\n",
       "  <thead>\n",
       "    <tr style=\"text-align: right;\">\n",
       "      <th></th>\n",
       "      <th>Volume</th>\n",
       "    </tr>\n",
       "  </thead>\n",
       "  <tbody>\n",
       "    <tr>\n",
       "      <th>0</th>\n",
       "      <td>588615.0</td>\n",
       "    </tr>\n",
       "    <tr>\n",
       "      <th>1</th>\n",
       "      <td>162075.0</td>\n",
       "    </tr>\n",
       "    <tr>\n",
       "      <th>2</th>\n",
       "      <td>266625.0</td>\n",
       "    </tr>\n",
       "    <tr>\n",
       "      <th>3</th>\n",
       "      <td>408600.0</td>\n",
       "    </tr>\n",
       "    <tr>\n",
       "      <th>4</th>\n",
       "      <td>165600.0</td>\n",
       "    </tr>\n",
       "    <tr>\n",
       "      <th>...</th>\n",
       "      <td>...</td>\n",
       "    </tr>\n",
       "    <tr>\n",
       "      <th>995</th>\n",
       "      <td>465220.0</td>\n",
       "    </tr>\n",
       "    <tr>\n",
       "      <th>996</th>\n",
       "      <td>956950.0</td>\n",
       "    </tr>\n",
       "    <tr>\n",
       "      <th>997</th>\n",
       "      <td>617280.0</td>\n",
       "    </tr>\n",
       "    <tr>\n",
       "      <th>998</th>\n",
       "      <td>1067910.0</td>\n",
       "    </tr>\n",
       "    <tr>\n",
       "      <th>999</th>\n",
       "      <td>1067910.0</td>\n",
       "    </tr>\n",
       "  </tbody>\n",
       "</table>\n",
       "<p>1000 rows × 1 columns</p>\n",
       "</div>"
      ],
      "text/plain": [
       "        Volume\n",
       "0     588615.0\n",
       "1     162075.0\n",
       "2     266625.0\n",
       "3     408600.0\n",
       "4     165600.0\n",
       "..         ...\n",
       "995   465220.0\n",
       "996   956950.0\n",
       "997   617280.0\n",
       "998  1067910.0\n",
       "999  1067910.0\n",
       "\n",
       "[1000 rows x 1 columns]"
      ]
     },
     "execution_count": 30,
     "metadata": {},
     "output_type": "execute_result"
    }
   ],
   "source": [
    "y"
   ]
  },
  {
   "cell_type": "code",
   "execution_count": 31,
   "id": "10c2c868",
   "metadata": {},
   "outputs": [],
   "source": [
    "#split the dataset\n",
    "from sklearn.model_selection import train_test_split\n",
    "xtrain,xtest,ytrain,ytest=train_test_split(x,y,test_size=0.2)"
   ]
  },
  {
   "cell_type": "code",
   "execution_count": 32,
   "id": "76f25e58",
   "metadata": {},
   "outputs": [
    {
     "data": {
      "text/plain": [
       "(800, 5)"
      ]
     },
     "execution_count": 32,
     "metadata": {},
     "output_type": "execute_result"
    }
   ],
   "source": [
    "xtrain.shape"
   ]
  },
  {
   "cell_type": "code",
   "execution_count": 33,
   "id": "a3d659f1",
   "metadata": {},
   "outputs": [
    {
     "data": {
      "text/plain": [
       "(800, 1)"
      ]
     },
     "execution_count": 33,
     "metadata": {},
     "output_type": "execute_result"
    }
   ],
   "source": [
    "ytrain.shape"
   ]
  },
  {
   "cell_type": "code",
   "execution_count": 34,
   "id": "1e6013e7",
   "metadata": {},
   "outputs": [
    {
     "data": {
      "text/plain": [
       "(200, 5)"
      ]
     },
     "execution_count": 34,
     "metadata": {},
     "output_type": "execute_result"
    }
   ],
   "source": [
    "xtest.shape"
   ]
  },
  {
   "cell_type": "code",
   "execution_count": 35,
   "id": "76af856c",
   "metadata": {},
   "outputs": [
    {
     "data": {
      "text/plain": [
       "(200, 1)"
      ]
     },
     "execution_count": 35,
     "metadata": {},
     "output_type": "execute_result"
    }
   ],
   "source": [
    "ytest.shape"
   ]
  },
  {
   "cell_type": "code",
   "execution_count": 36,
   "id": "32d4bcb5",
   "metadata": {},
   "outputs": [
    {
     "name": "stderr",
     "output_type": "stream",
     "text": [
      "C:\\Users\\USER\\AppData\\Local\\Temp/ipykernel_9680/2222216298.py:4: DataConversionWarning: A column-vector y was passed when a 1d array was expected. Please change the shape of y to (n_samples,), for example using ravel().\n",
      "  clf = clf.fit(x, y)\n"
     ]
    },
    {
     "name": "stdout",
     "output_type": "stream",
     "text": [
      "0.985\n"
     ]
    }
   ],
   "source": [
    "from sklearn.metrics import accuracy_score\n",
    "from sklearn.ensemble import RandomForestClassifier\n",
    "clf = RandomForestClassifier(n_estimators=10)\n",
    "clf = clf.fit(x, y)\n",
    "ypred=clf.predict(xtest)\n",
    "score=accuracy_score(ytest,ypred)\n",
    "print(score)"
   ]
  },
  {
   "cell_type": "code",
   "execution_count": 37,
   "id": "24b4add6",
   "metadata": {},
   "outputs": [
    {
     "name": "stderr",
     "output_type": "stream",
     "text": [
      "C:\\Users\\USER\\anaconda3\\lib\\site-packages\\sklearn\\utils\\validation.py:63: DataConversionWarning: A column-vector y was passed when a 1d array was expected. Please change the shape of y to (n_samples, ), for example using ravel().\n",
      "  return f(*args, **kwargs)\n"
     ]
    },
    {
     "name": "stdout",
     "output_type": "stream",
     "text": [
      "0.055\n"
     ]
    }
   ],
   "source": [
    "from sklearn.metrics import accuracy_score\n",
    "from sklearn import svm\n",
    "clf = svm.SVC()\n",
    "clf.fit(x, y)\n",
    "ypred=clf.predict(xtest)\n",
    "score=accuracy_score(ytest,ypred)\n",
    "print(score)"
   ]
  },
  {
   "cell_type": "code",
   "execution_count": 38,
   "id": "045e670e",
   "metadata": {},
   "outputs": [
    {
     "name": "stderr",
     "output_type": "stream",
     "text": [
      "C:\\Users\\USER\\anaconda3\\lib\\site-packages\\sklearn\\utils\\validation.py:63: DataConversionWarning: A column-vector y was passed when a 1d array was expected. Please change the shape of y to (n_samples, ), for example using ravel().\n",
      "  return f(*args, **kwargs)\n"
     ]
    },
    {
     "name": "stdout",
     "output_type": "stream",
     "text": [
      "0.075\n"
     ]
    },
    {
     "name": "stderr",
     "output_type": "stream",
     "text": [
      "C:\\Users\\USER\\anaconda3\\lib\\site-packages\\sklearn\\linear_model\\_logistic.py:763: ConvergenceWarning: lbfgs failed to converge (status=1):\n",
      "STOP: TOTAL NO. of ITERATIONS REACHED LIMIT.\n",
      "\n",
      "Increase the number of iterations (max_iter) or scale the data as shown in:\n",
      "    https://scikit-learn.org/stable/modules/preprocessing.html\n",
      "Please also refer to the documentation for alternative solver options:\n",
      "    https://scikit-learn.org/stable/modules/linear_model.html#logistic-regression\n",
      "  n_iter_i = _check_optimize_result(\n"
     ]
    }
   ],
   "source": [
    "from sklearn.metrics import accuracy_score\n",
    "from sklearn.linear_model import LogisticRegression  \n",
    "clf = LogisticRegression()\n",
    "clf = clf.fit(x,y)\n",
    "ypred=clf.predict(xtest)\n",
    "score=accuracy_score(ytest,ypred)\n",
    "print(score)"
   ]
  },
  {
   "cell_type": "code",
   "execution_count": 39,
   "id": "0dd87046",
   "metadata": {},
   "outputs": [
    {
     "name": "stdout",
     "output_type": "stream",
     "text": [
      "1.0\n"
     ]
    }
   ],
   "source": [
    "from sklearn.metrics import accuracy_score\n",
    "from sklearn.tree import DecisionTreeClassifier\n",
    "clf = DecisionTreeClassifier()\n",
    "clf = clf.fit(x,y)\n",
    "ypred=clf.predict(xtest)\n",
    "score=accuracy_score(ytest,ypred)\n",
    "print(score)"
   ]
  },
  {
   "cell_type": "code",
   "execution_count": 40,
   "id": "a52a5746",
   "metadata": {},
   "outputs": [
    {
     "name": "stdout",
     "output_type": "stream",
     "text": [
      "[588615.]\n"
     ]
    }
   ],
   "source": [
    "prediction=clf.predict([[17,21.370001,22.783001,21.370001,22.520000]])\n",
    "print(prediction)"
   ]
  },
  {
   "cell_type": "code",
   "execution_count": 41,
   "id": "04ba745f",
   "metadata": {},
   "outputs": [
    {
     "name": "stdout",
     "output_type": "stream",
     "text": [
      "[1067910.]\n"
     ]
    }
   ],
   "source": [
    "prediction=clf.predict([[399,19.985001,19.985001,19.500000,19.600000]])\n",
    "print(prediction)"
   ]
  },
  {
   "cell_type": "code",
   "execution_count": 42,
   "id": "1470197f",
   "metadata": {},
   "outputs": [
    {
     "data": {
      "image/png": "[encoded data removed]",
      "text/plain": [
       "<Figure size 432x432 with 1 Axes>"
      ]
     },
     "metadata": {},
     "output_type": "display_data"
    }
   ],
   "source": [
    "import matplotlib.pyplot as plt\n",
    "import seaborn as sns\n",
    "from sklearn.metrics import confusion_matrix\n",
    "\n",
    "# Replace y_true and y_pred with your actual data\n",
    "y_test = [0, 1, 0, 1, 1, 0, 0, 0, 1]\n",
    "y_pred = [0, 0, 1, 1, 1, 0, 0, 1, 1]\n",
    "\n",
    "cm = confusion_matrix(y_test, y_pred)\n",
    "# Create a heatmap of the confusion matrix with a different colormap (\"viridis\")\n",
    "sns.set(font_scale=1.2)\n",
    "plt.figure(figsize=(6, 6))\n",
    "sns.heatmap(cm, annot=True, fmt=\"d\", cmap=\"viridis\", annot_kws={\"size\": 16}, cbar=False)\n",
    "plt.xlabel('Predicted Labels')\n",
    "plt.ylabel('True Labels')\n",
    "plt.title('Confusion Matrix')\n",
    "plt.show()"
   ]
  },
  {
   "cell_type": "code",
   "execution_count": 43,
   "id": "07a44330",
   "metadata": {},
   "outputs": [
    {
     "data": {
      "image/png": "[encoded data removed]",
      "text/plain": [
       "<Figure size 720x432 with 1 Axes>"
      ]
     },
     "metadata": {},
     "output_type": "display_data"
    }
   ],
   "source": [
    "import matplotlib.pyplot as plt\n",
    "\n",
    "# Sample data\n",
    "df = ['High','Low']\n",
    "values = [27.839401,27.603037]  # Corresponding percentages\n",
    "\n",
    "# Define custom colors for the slices\n",
    "colors = ['#FF9999', '#66B2FF']  # You can specify the colors you prefer using hex color codes\n",
    "\n",
    "# Create a pie chart with custom colors\n",
    "plt.figure(figsize=(10, 6))\n",
    "plt.pie(values, labels=df, autopct='%1.1f%%', startangle=1500, colors=colors)\n",
    "plt.axis('equal')  # Equal aspect ratio ensures the pie chart is circular.\n",
    "\n",
    "# Add a title\n",
    "plt.title('stock price')\n",
    "\n",
    "# Display the pie chart\n",
    "plt.show()"
   ]
  },
  {
   "cell_type": "code",
   "execution_count": 46,
   "id": "6da6e1e7",
   "metadata": {},
   "outputs": [
    {
     "data": {
      "image/png": "[encoded data removed]",
      "text/plain": [
       "<Figure size 720x432 with 1 Axes>"
      ]
     },
     "metadata": {},
     "output_type": "display_data"
    }
   ],
   "source": [
    "import matplotlib.pyplot as plt\n",
    "\n",
    "# Sample data\n",
    "categories = ['Open','Close']\n",
    "values = [21.370001,22.520000]\n",
    "\n",
    "# Create a bar chart\n",
    "plt.figure(figsize=(10, 6))\n",
    "plt.bar(categories, values, color='blue')\n",
    "\n",
    "# Add labels and title\n",
    "plt.xlabel('Categories')\n",
    "plt.ylabel('Values')\n",
    "plt.title('Sample Bar Chart')\n",
    "\n",
    "# Display the bar chart\n",
    "plt.show()"
   ]
  },
  {
   "cell_type": "code",
   "execution_count": 47,
   "id": "8692a580",
   "metadata": {},
   "outputs": [],
   "source": [
    "import pickle"
   ]
  },
  {
   "cell_type": "code",
   "execution_count": 48,
   "id": "aeffaa4c",
   "metadata": {},
   "outputs": [],
   "source": [
    "# Save the model to a file\n",
    "filename = r'C:\\Users\\USER\\Desktop\\stock\\model\\stock.pickle'\n",
    "with open(filename, 'wb') as file:\n",
    "    pickle.dump(clf, file)"
   ]
  },
  {
   "cell_type": "code",
   "execution_count": 49,
   "id": "14b23bb7",
   "metadata": {},
   "outputs": [
    {
     "name": "stdout",
     "output_type": "stream",
     "text": [
      "Model Loaded!\n"
     ]
    }
   ],
   "source": [
    "import os\n",
    "import pickle\n",
    "if os.path.isfile(r\"stock.pkl\"):\n",
    "    print(\"File Exists\")\n",
    "else:\n",
    "    pickle.dump(clf,open(r'C:\\Users\\USER\\Desktop\\stock\\model\\stock.pkl','wb'))\n",
    "    print(\"Model Loaded!\")\n"
   ]
  },
  {
   "cell_type": "code",
   "execution_count": null,
   "id": "21e97284",
   "metadata": {},
   "outputs": [],
   "source": []
  },
  {
   "cell_type": "code",
   "execution_count": null,
   "id": "6e625e8c",
   "metadata": {},
   "outputs": [],
   "source": []
  }
 ],
 "metadata": {
  "kernelspec": {
   "display_name": "Python 3 (ipykernel)",
   "language": "python",
   "name": "python3"
  },
  "language_info": {
   "codemirror_mode": {
    "name": "ipython",
    "version": 3
   },
   "file_extension": ".py",
   "mimetype": "text/x-python",
   "name": "python",
   "nbconvert_exporter": "python",
   "pygments_lexer": "ipython3",
   "version": "3.9.7"
  }
 },
 "nbformat": 4,
 "nbformat_minor": 5
}
